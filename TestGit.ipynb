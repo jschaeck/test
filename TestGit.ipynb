{
    "nbformat_minor": 0, 
    "metadata": {
        "language_info": {
            "version": "2.7.11", 
            "codemirror_mode": {
                "name": "ipython", 
                "version": 2
            }, 
            "pygments_lexer": "ipython2", 
            "name": "python", 
            "file_extension": ".py", 
            "nbconvert_exporter": "python", 
            "mimetype": "text/x-python"
        }, 
        "kernelspec": {
            "language": "python", 
            "name": "python2", 
            "display_name": "Python 2 with Spark 1.6"
        }
    }, 
    "nbformat": 4, 
    "cells": [
        {
            "execution_count": 1, 
            "outputs": [
                {
                    "name": "stdout", 
                    "output_type": "stream", 
                    "text": "test git\n"
                }
            ], 
            "source": "print(\"test git\")", 
            "metadata": {
                "collapsed": false
            }, 
            "cell_type": "code"
        }
    ]
}