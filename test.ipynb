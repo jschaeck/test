{
    "cells": [
        {
            "cell_type": "code", 
            "source": "print(\"Juergen likes the new GitHub feature\")\nprint(\"Armand likes the new GitHub feature\")", 
            "execution_count": 2, 
            "outputs": [
                {
                    "output_type": "stream", 
                    "text": "Juergen likes the new GitHub feature\nArmand likes the new GitHub feature\n", 
                    "name": "stdout"
                }
            ], 
            "metadata": {
                "collapsed": false
            }
        }, 
        {
            "cell_type": "code", 
            "source": "", 
            "execution_count": null, 
            "outputs": [], 
            "metadata": {
                "collapsed": true
            }
        }
    ], 
    "nbformat_minor": 0, 
    "nbformat": 4, 
    "metadata": {
        "kernelspec": {
            "language": "python", 
            "display_name": "Python 2 with Spark 1.6", 
            "name": "python2"
        }, 
        "language_info": {
            "pygments_lexer": "ipython2", 
            "mimetype": "text/x-python", 
            "nbconvert_exporter": "python", 
            "name": "python", 
            "file_extension": ".py", 
            "version": "2.7.11", 
            "codemirror_mode": {
                "version": 2, 
                "name": "ipython"
            }
        }
    }
}