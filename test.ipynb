{
    "cells": [
        {
            "cell_type": "code", 
            "source": "print(\"test3\")", 
            "execution_count": 1, 
            "outputs": [
                {
                    "output_type": "stream", 
                    "text": "test\n", 
                    "name": "stdout"
                }
            ], 
            "metadata": {
                "collapsed": false
            }
        }
    ], 
    "nbformat_minor": 0, 
    "nbformat": 4, 
    "metadata": {
        "kernelspec": {
            "language": "python", 
            "display_name": "Python 2 with Spark 1.6", 
            "name": "python2"
        }, 
        "language_info": {
            "pygments_lexer": "ipython2", 
            "mimetype": "text/x-python", 
            "nbconvert_exporter": "python", 
            "name": "python", 
            "file_extension": ".py", 
            "version": "2.7.11", 
            "codemirror_mode": {
                "version": 2, 
                "name": "ipython"
            }
        }
    }
}