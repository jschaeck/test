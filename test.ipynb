{
    "nbformat_minor": 0, 
    "nbformat": 4, 
    "cells": [
        {
            "source": "print(\"test\")", 
            "execution_count": 1, 
            "outputs": [
                {
                    "output_type": "stream", 
                    "text": "test\n", 
                    "name": "stdout"
                }
            ], 
            "cell_type": "code", 
            "metadata": {
                "collapsed": false
            }
        }
    ], 
    "metadata": {
        "kernelspec": {
            "name": "python2", 
            "display_name": "Python 2 with Spark 1.6", 
            "language": "python"
        }, 
        "language_info": {
            "version": "2.7.11", 
            "file_extension": ".py", 
            "codemirror_mode": {
                "version": 2, 
                "name": "ipython"
            }, 
            "nbconvert_exporter": "python", 
            "mimetype": "text/x-python", 
            "pygments_lexer": "ipython2", 
            "name": "python"
        }
    }
}